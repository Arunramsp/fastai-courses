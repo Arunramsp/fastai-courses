{
 "cells": [
  {
   "cell_type": "markdown",
   "metadata": {
    "toc": "true"
   },
   "source": [
    "# Table of Contents\n",
    " <p>"
   ]
  },
  {
   "cell_type": "code",
   "execution_count": 1,
   "metadata": {
    "collapsed": true
   },
   "outputs": [],
   "source": [
    "%matplotlib inline\n",
    "import math,sys,os,numpy as np\n",
    "from numpy.random import random\n",
    "from matplotlib import pyplot as plt, rcParams, animation, rc\n",
    "from __future__ import print_function, division\n",
    "from ipywidgets import interact, interactive, fixed\n",
    "from ipywidgets.widgets import *\n",
    "rc('animation', html='html5')\n",
    "rcParams['figure.figsize'] = 3, 3\n",
    "%precision 4\n",
    "np.set_printoptions(precision=4, linewidth=100)"
   ]
  },
  {
   "cell_type": "code",
   "execution_count": 2,
   "metadata": {
    "collapsed": true
   },
   "outputs": [],
   "source": [
    "def lin(a,b,x): return a*x+b"
   ]
  },
  {
   "cell_type": "code",
   "execution_count": 3,
   "metadata": {
    "collapsed": true
   },
   "outputs": [],
   "source": [
    "a=3.\n",
    "b=8."
   ]
  },
  {
   "cell_type": "code",
   "execution_count": 4,
   "metadata": {
    "collapsed": true
   },
   "outputs": [],
   "source": [
    "n=30\n",
    "x = random(n)\n",
    "y = lin(a,b,x)"
   ]
  },
  {
   "cell_type": "code",
   "execution_count": 5,
   "metadata": {},
   "outputs": [
    {
     "data": {
      "text/plain": [
       "array([ 0.2685,  0.266 ,  0.0211,  0.7514,  0.457 ,  0.8487,  0.4617,  0.2624,  0.9681,  0.8388,\n",
       "        0.4249,  0.1006,  0.0668,  0.1442,  0.108 ,  0.6886,  0.0075,  0.0281,  0.5302,  0.2453,\n",
       "        0.8001,  0.8074,  0.2946,  0.253 ,  0.2443,  0.165 ,  0.8535,  0.7112,  0.7474,  0.3104])"
      ]
     },
     "execution_count": 5,
     "metadata": {},
     "output_type": "execute_result"
    }
   ],
   "source": [
    "x"
   ]
  },
  {
   "cell_type": "code",
   "execution_count": 6,
   "metadata": {},
   "outputs": [
    {
     "data": {
      "text/plain": [
       "array([  8.8054,   8.7981,   8.0634,  10.2542,   9.3711,  10.546 ,   9.3851,   8.7872,  10.9042,\n",
       "        10.5164,   9.2746,   8.3019,   8.2005,   8.4327,   8.3241,  10.0657,   8.0225,   8.0842,\n",
       "         9.5905,   8.7358,  10.4004,  10.4221,   8.8837,   8.7591,   8.733 ,   8.4949,  10.5606,\n",
       "        10.1337,  10.2423,   8.9313])"
      ]
     },
     "execution_count": 6,
     "metadata": {},
     "output_type": "execute_result"
    }
   ],
   "source": [
    "y"
   ]
  },
  {
   "cell_type": "code",
   "execution_count": 7,
   "metadata": {},
   "outputs": [
    {
     "data": {
      "text/plain": [
       "<matplotlib.collections.PathCollection at 0x7f59749cc810>"
      ]
     },
     "execution_count": 7,
     "metadata": {},
     "output_type": "execute_result"
    },
    {
     "data": {
      "image/png": "[encoded data removed]",
      "text/plain": [
       "<matplotlib.figure.Figure at 0x7f599c2cab50>"
      ]
     },
     "metadata": {},
     "output_type": "display_data"
    }
   ],
   "source": [
    "plt.scatter(x,y)"
   ]
  },
  {
   "cell_type": "code",
   "execution_count": 8,
   "metadata": {
    "collapsed": true
   },
   "outputs": [],
   "source": [
    "def sse(y,y_pred): return ((y-y_pred)**2).sum()\n",
    "def loss(y,a,b,x): return sse(y, lin(a,b,x))\n",
    "def avg_loss(y,a,b,x): return np.sqrt(loss(y,a,b,x)/n)"
   ]
  },
  {
   "cell_type": "code",
   "execution_count": 9,
   "metadata": {},
   "outputs": [
    {
     "data": {
      "text/plain": [
       "8.7715"
      ]
     },
     "execution_count": 9,
     "metadata": {},
     "output_type": "execute_result"
    }
   ],
   "source": [
    "a_guess=-1.\n",
    "b_guess=1.\n",
    "avg_loss(y, a_guess, b_guess, x)"
   ]
  },
  {
   "cell_type": "code",
   "execution_count": 10,
   "metadata": {
    "collapsed": true
   },
   "outputs": [],
   "source": [
    "lr=0.01\n",
    "# d[(y-(a*x+b))**2,b] = 2 (b + a x - y)      = 2 (y_pred - y)\n",
    "# d[(y-(a*x+b))**2,a] = 2 x (b + a x - y)    = x * dy/db"
   ]
  },
  {
   "cell_type": "code",
   "execution_count": 11,
   "metadata": {
    "collapsed": true
   },
   "outputs": [],
   "source": [
    "def upd():\n",
    "    global a_guess, b_guess\n",
    "    y_pred = lin(a_guess, b_guess, x)\n",
    "    dydb = 2 * (y_pred - y)\n",
    "    dyda = x*dydb\n",
    "    a_guess -= lr*dyda.mean()\n",
    "    b_guess -= lr*dydb.mean()"
   ]
  },
  {
   "cell_type": "code",
   "execution_count": 12,
   "metadata": {
    "scrolled": true
   },
   "outputs": [
    {
     "data": {
      "text/html": [
       "<video width=\"500\" height=\"400\" controls autoplay loop>\n",
       "  <source type=\"video/mp4\" src=\"data:video/mp4;base64,AAAAHGZ0eXBNNFYgAAACAGlzb21pc28yYXZjMQAAAAhmcmVlAABPO21kYXQAAAKuBgX//6rcRem9\n",
       "5tlIt5Ys2CDZI+7veDI2NCAtIGNvcmUgMTQ4IHIyNzQ4IDk3ZWFlZjIgLSBILjI2NC9NUEVHLTQg\n",
       "QVZDIGNvZGVjIC0gQ29weWxlZnQgMjAwMy0yMDE2IC0gaHR0cDovL3d3dy52aWRlb2xhbi5vcmcv\n",
       "eDI2NC5odG1sIC0gb3B0aW9uczogY2FiYWM9MSByZWY9MyBkZWJsb2NrPTE6MDowIGFuYWx5c2U9\n",
       "MHgzOjB4MTEzIG1lPWhleCBzdWJtZT03IHBzeT0xIHBzeV9yZD0xLjAwOjAuMDAgbWl4ZWRfcmVm\n",
       "PTEgbWVfcmFuZ2U9MTYgY2hyb21hX21lPTEgdHJlbGxpcz0xIDh4OGRjdD0xIGNxbT0wIGRlYWR6\n",
       "b25lPTIxLDExIGZhc3RfcHNraXA9MSBjaHJvbWFfcXBfb2Zmc2V0PS0yIHRocmVhZHM9NiBsb29r\n",
       "YWhlYWRfdGhyZWFkcz0xIHNsaWNlZF90aHJlYWRzPTAgbnI9MCBkZWNpbWF0ZT0xIGludGVybGFj\n",
       "ZWQ9MCBibHVyYXlfY29tcGF0PTAgY29uc3RyYWluZWRfaW50cmE9MCBiZnJhbWVzPTMgYl9weXJh\n",
       "bWlkPTIgYl9hZGFwdD0xIGJfYmlhcz0wIGRpcmVjdD0xIHdlaWdodGI9MSBvcGVuX2dvcD0wIHdl\n",
       "aWdodHA9MiBrZXlpbnQ9MjUwIGtleWludF9taW49MTAgc2NlbmVjdXQ9NDAgaW50cmFfcmVmcmVz\n",
       "aD0wIHJjX2xvb2thaGVhZD00MCByYz1jcmYgbWJ0cmVlPTEgY3JmPTIzLjAgcWNvbXA9MC42MCBx\n",
       "cG1pbj0wIHFwbWF4PTY5IHFwc3RlcD00IGlwX3JhdGlvPTEuNDAgYXE9MToxLjAwAIAAABLsZYiE\n",
       "AD///vdonwKbWkN6gOSVxSXbT4H/q2dwfI/pAwAAAwAAAwAkAvzHv6EHQzQgAABQic/gsldNQVEG\n",
       "rVWJETueZW6CveofCONurjKq1mcfZ0P89EfiowXffzerReILorurz0Hw00X7IHiVKxzwYDZD0QxJ\n",
       "mjjow9WXmubobDkAAdDNm9bKAMC62sNsQZfUHazfM2WwMSeemht2MFE9x5E1ZsV9Csw31RVL4X7K\n",
       "vV94+8YT+jeqQBB8HZ2tiQU+uaYw+MTjor7n9m+AvAL7DA+YGjK7YNHGQvLrRJD9B6JtNWxciEBu\n",
       "ONKEqDiFUB6yudD28Dxvi30RQYzQWJ5sAAwwIdaxyq5wkx5lar0kuNMT8Cpe5sX6+L1q6415HgKa\n",
       "IrWMVF3+FVFPcWe6NmAMucNkiYcVPF5c6v1rG4VPx939/TCTPxcu3tnTeOo61NIJRaBuMdc+sMgI\n",
       "oRQAiXgrQwnnT2TJfJ2OQC37UiZwttTQH0yNpBopZ2WjGwx1CyOf7PVy/GBz9O3YX1FgvL/OWo4o\n",
       "UJuQFhw1UtC3Jz4OCSsuWwfactt5fE7RgvtfzDDSvpyzb3xF/SgpZ+2Kb099syd4n+yLvkOoh6g1\n",
       "SNGeYoXfw2wZfzhNPxSMlycJA1y2QgFfZ9BS34/+3A+k8biy4/7ouot2hI5IemsWzWYVHig51k1Q\n",
       "EXAaFGX1j77WkNaMUwbEwLcHvhgJN8EYtFl4xRPu0/QORcB1yfJvBqOW/e3sjl02lNnighIoKNE1\n",
       "iMegKFLwKsnFIaw8xQK64WtmrOkKBt47VDKPOibQBHi+y50vTuZmnRbliji81m/VUYe+P0rGXhbg\n",
       "QpW9Q0HOHYKNpcHADGVWpCLW+pSwAhvmgFA8AwpBFl10PdyQxe5H+pJ1/0ASizWLgD2NHiX58F+p\n",
       "uc7rl6AG443e4wKznN9gV+Y5uqMAxWhOV7+3weh25B5GcdZm8Dfai9+m3hNwGu2fHZZB3HJV9kLB\n",
       "KFRUHbvxquXPlp0ZBH+ByB03t+epxoEqAN2e0gyxtsPVlnIgHs7HGaRAwqyjfrToyCsozG9ZexG2\n",
       "Sx0HoFmK9vmpPPf8e/vNFr/DZQZ9Cek++p+BLVeCCdFjZ5KWNQOTzhm5c9ksctajiDSpD9F7s3wi\n",
       "Yvr+DcGeUVwq6u6NWigrGUOJoq08qX1cezOdhgmE2SONgIsnvXYaCiaIdVzueWqVslR6yLQAAaqT\n",
       "A/ZbIzY3q9uGTD5XOS/cwq4x+2YbMhzucWa7RD72eoiO1cdkFaaZFI+RtQ3k/OJf+w2RE0bHVKl/\n",
       "VajM8DNyvDw7uCTTCfs5DuNn39Hi6571eIzTwJz7qx860nrcgXHyeI7J1QbLq/7oDg7ozXmjw1RI\n",
       "AuAT831767TSsg5TMb6oSLQtqYkix1vQ3tbQBKN2dVK5hilXrt+qKVmPlGFBHDkAtbBlUtd+YYZh\n",
       "vz3zfzg8TAGjM9h9iXtNsLrIwL+7ip2YOL3jg1HjOUD7owR3s2w74Q2Cfb8FKRnRgKvq5kUuZi6B\n",
       "86ApjBSzFrMWxj/wX/Uqkpnw1CMC3om/bU+CiIk99XXIbe6h7tbDNfbCxkm7l1E2Ijk99RUTVDDY\n",
       "J0Uiakgo1Oav0VPOSOqapqX+arkZo/rOrJ+2piImSsLH0MicsBNncE+9MeXScaNOEL1oHVYIgiRP\n",
       "In2XISxUwhvDsLbxGDZnpJUxXqvhITF0RkFxntAzL0OH1mmohk4mrmsJnJO8OFtX9NGzH4Gxxhq9\n",
       "XH5L+5Kv2apUKK2XMBoP7cgu0UYk01DyiwUNQ1Z2ar9XHBRxs3a1woV4srKSGcN+7Fr6sX6Q33wb\n",
       "NbGtQAlZzhABob7n8wofNMQdNQByCNYm85Dlw90s5HZCwDLGHrXQIEn2Nr/NBKW3UMrriFZg7uQz\n",
       "kgFj2E2pAYMS/J/90J6nnATX3FvbBrRLxqHJ7vKx7H2MJsrMl+xq8dgYNyGiF0Vfp6Wr3f6pviBI\n",
       "BQsboc3wNlFi4Xhvmwph9ZwQxn2KscmMDsLextjFXEmMTQQdpCYzTDOEm8IYMf2ysNXRzC6P+gAg\n",
       "LZq3Hg1fLwSHgCt5/Uvk0Wm8izsjLAF5TUz+ioGqfKc/BoH0SkHcWlpGx3ne/Z4LWvjLq2PA7yIp\n",
       "vgLUaKoA4WpUyTg3/43VyXFGQ/vx99Vxoa3PylbEHHaw1vvb/+gvf6N0/q3ryhV+gkgpcbMgerEb\n",
       "3ZJPVwz3eushdHMM97yF05PquGPmv7rlZSTHVk8ApF2SPDbimEj2+SA4Sej8ndlGr8GyjZwoz7XR\n",
       "7QvJM5v2czRUheNZZnGIs9IvUyT1XnxtvB3DV5PwAkFftKBKZaOq+aGRZkrvW06wLMsrQMabHuVE\n",
       "3eOnDKf287mLd025NsB/fi7zFx1arZBTdP6v51ylUy1tGd8JdfaffVNAhaKE/IGj/vPA8EQOSuMW\n",
       "BZCqIe2oGTt5PQWixp05vcfDLf+XBjbtVOE3NXXbjngIovLh+M10zUifTY4Ib4SHJqhO5niv8H/B\n",
       "8z0IznTCQxmHRSGQvyRv2GHwcfyYxoVZjC7DLV/ZKfwihuTCkS31PFgvAzqORFvg7C5M3ymFru77\n",
       "JszPfycEqyY66vMoH5WvoIWqsbMPYaWMOdO5QMru9x8QSk9rsdarzIBYiUoPSq1eOOfYuLg+yKCt\n",
       "J5oxMPu+3vsuZYTmwqcZKoxuNh+FB1Yx2E6F5QMlAfTe+uO3H0UWBZ7qVXaSNS2vk20Zod6GP/Yp\n",
       "KxbQq17gZrFHLaVwiTIOwWbjGJhbOPxiFQqvDfVx9jeUlI2qwd53TujLMPGhLOiBpdS5HzAGftmS\n",
       "MiHnPl9RTnJRg4EpAcYSkhQ0gNmeAEp4mKraXDlj6+n4Cab9skWKa/T0j/dDzuAp95ZM7Tl2vgvn\n",
       "MmBQGYPaOXsQm9q0/SQ+mGMdfUhCi6W4gSQZrE8V3erCPMFF15KXtCSG+8oDyDY5V2f0e9dAV3Nc\n",
       "o2fTL9aqQIpFDU63QXaruREaDHFHDWUA5oq8G+524EBlOWchfG8C0rWRUeXJ+ZlGH6E+8KWkybr4\n",
       "OWxIHFfJtJDhJLyT47Fmdzsqe7JBitgTQx1vGLpLTGnNx4mDhrmXqhzMSRGgIC9d/nVL0FyUY1AM\n",
       "o1cVH6gc3Hfl5CSTncGAJnT3Oyt96ffrztgDK9mjimat/HeYw6Fi46WZ8dysWCXiU4s5vWyTlGPs\n",
       "UVzvx9VfMZugcLiA+J3UxCW/kDVdZ/K+5CMmmXFDd+E85IjarCj0IilgXMe/Ym7mRYTtins6K95X\n",
       "ZrW4GuAhHJpsy00F1gC4SLoXLdAyJmVXBnOefQ1IZJIcr8Ksbo+3BzewlcoEEmI65Ryzw6Nrk/oN\n",
       "M7Pshrnmr2Yx3klOfv35lifzX96s/UAl9jsdDnsC2zD9ffwMh1u8ehclAH0BnYR/jaJzvthPK3NP\n",
       "V9N1r7INMis7pDq8B7bNfO0whIU/VkoHBLGfMqIVPYcqUNooFz2BcLueADMc7PdVFcEMh7oSU+jm\n",
       "eQVBQWOrGE5qSdZG6CIiji/horF2VtTzaM1cw2+rL+DIfBlxj/4B/oyZ8iD/4iolAMuZXdeon0wo\n",
       "9ACHdWO6xSp+oeLWTIFPkxTygox2yBx0rb2x3ZU691MPI3YNQy14wdq1uyrqWaUXSPqYRJMwVZvw\n",
       "K21ESDrpMYDPk+9uVsPrQevJColwGFXSEgGkPO9TLFq5g+21nFOmT0Mwj/cr+CsB+HBWb0o3VJHf\n",
       "21YZNas2s4KIrp5i/OPMqARZBG54nyer2ZIOVRmVktbDGN03GOwI7umMx2CLqmBUh6Fuq2OszjMr\n",
       "18xFAdlSqmYi6h1Q3FdXWc6hIvdY7bpKj/Fv+2Qpca5lrgcoxqpp8K0ef0w5r8fBgtEqtGzZrIXB\n",
       "VkAoQrpcowrjWXkHQ3t44UJMzUpFtQEUJaJ+ZzLRbCj0qF5RzAY0UOKXlQmVjxhMPcsDBzhMHMHg\n",
       "o5gBu67UWyppdsje6ctDDnCl/Sfvpz7q80Lg0IztFYY6kDO30t3yyhS7vWGEmhMT3fDfoia6AFOc\n",
       "o9GqlBSLpsvHGDPqZgvkKq94EH8xRpwOyWApceay2vJtvH/aTX2LDSzQbr8o9+2lSp+RTI+EhqhM\n",
       "6+lBYsSJSYEmI6Euaj+QQBuX0YjFQcJha9r1UVSjP1HwYXZ6hPOf2+6v448sljFKHlm5MwSoaeOL\n",
       "doMP32tcdidR+NmdLuSbOlPLULCU4E5+NG92hsoPyRaplbkL518oWGPIL9Ff8OzNbJKa/fJY1jL2\n",
       "OLO80kSwXi4JUfxVTXT0PSvrfsJ4c/GTSZxM7KgchAR904oF7iA8dgVhBCxGl3qaIUPGmzRR1BvE\n",
       "xmVYiOhV5y+R1V7FvJYKAV/6YJR2weEbY6qy9cVdBd4AOveRpfxpgucyWEgNDhQOysjXwezwSEPM\n",
       "u5BokJRhMGA3PLQ33sGxdR5DMv8EcXNmxw/pHRiI+tCTCiif/c2cjt4AwFJSprYSr9a7w9wmhswj\n",
       "MmVuXwgHD0XIdel8TTVuXeX2IQLjFdFjIDSGSmlYrIqgi5AymR6AAvNVlAmfrW82XcQmKHbDWTeC\n",
       "eHMVE1Sq4AU0lJjNTzyKVSBmbTNEoNvlBtVQCeJMMZpTqvb/X2wbMBCDd6Irs5JYcX2Jw3XfBOGn\n",
       "2uWMJkIHRRVF6iiIT8GnUKzhjSipnoauMt/HRipvoeHcsA+B3EXGRmI4gCJFGAV3LES/Hy7haj+w\n",
       "afRx2VuUjDNQGPndkT4xqQHueNuVP8U0pqRG9S8zxJPyTJ/qWzlHyaw5L6gP1eRJA2z6hQV0n/CZ\n",
       "xukuYVr1uikB0xrS5gIdWmTY/zHHUSi43+s5nly9aPLPdDHBw9NwqaQpcjEFeX0ohjg4eaG/NB+R\n",
       "juF4090McHGC1ShwBwHTwznmy2VeX5paxIhA9Jn9hcjo2CWIk76fI+Sc/N9Ps0vXPoOczAtC1Xge\n",
       "vGlRiOvu8qT/seAJHukb29Pj5iafA26Y/Ug0FSOCBFSArPOudvxMYs2ywu/Se5CxRCKbTNQvxHdk\n",
       "IhMT0UnpKLFlINIyLkQrK22iES+6ncAS/i7BnJZ3M8PERg7maSfNaccb46BVk329DuH3vkZfMp+c\n",
       "TPIVKut75BO3pfmubpCqquNz7KOBwJv19ToyikU5GTJpDutYKq1TMkDGoF520iczKUFt7qhUGJ6n\n",
       "HYpfSkoZmbpL5RjmlAsvnm/XpnNhNIXdDWriKnLJA9DBZ5eIOKAwkugAaYYFSQO28sGQP5OcgFgm\n",
       "jxj8IVBrClUs1dw0Bt9JLr+6J9iAXXVhtrgAi0RKxbTOEyNPXdqn/s5HLvL6gAz7D1b/mki2i8aO\n",
       "BNbnJ8e8uML4SxjHF5GyENByXzR04r1bVESmfLCSEFGY+2KCJLoGMIV+0hLIJ2AQ+AzK8igyRvkA\n",
       "N2BUYup5IZWqroJlNi51Vs/NOPSCh00EaLTyA4jHAzUdHZIiQP4DzBAB6WzVY/xz9tgvBe1s4DLB\n",
       "/AcW0BiJ3/i6zSFTlAQUlJraQoMF8UpJudjdtspjzLZpVbjVPaj4Z84gv+9gbAtK0VDzuatvKMM1\n",
       "z2MQBQtz2n0AzLe3ozp3Ta+oZrYi6ckYwHPTgKS0hhtB+T0GLk1Bpf7Xh+4zlfrV+CXNTNotFkKn\n",
       "M9nwvSBk+5tKDEwOw2tIGC93jz1MDLk+Gk+lqEpVE3UXSjj0HEMLqokvJia2p7+2po4unox23EjJ\n",
       "8ez6uD7rQDNdo39mX2PiTGjDJ4jxWNYGID/LStXYWNNtb6emfhUfYlrDS6ZtStmRdh/+zg/kFp8p\n",
       "H7WdQJlO3sGjxAkOMZdPrWcS4ni7Zak87n2Tri5e0tryC03VuHXYW6lrxqu0UInU8n+1XvtAldo6\n",
       "P+nm3sH8QdN72DoFwmnY0pPnPKbuWya2sACjYhhcXBBk94zXTZeol5IjkvTahkvCwDr0/DTxxenJ\n",
       "pejUcYj9OkSZiFQEOdi36sOhJGrjS1xdoj5gwmvXs8/TAKrNRULLmuvvWZ/IeETY6TXDbczkdbdc\n",
       "3Q9VGCVrtrEr0X63OjUmbkxxBfWTiptaKqHGLJEf8q8ML04xfeA8zJre2fAgODNACTCLfNyAkjAJ\n",
       "AA8ezDlH69WxULKcWWHLNhgxnbtRXY1zyruJbKBC+/GZ2UhAwfyIwweembEV8Xqw2yHlw3h202dV\n",
       "h/+dDp7o77pko9rgZOl6xjBffqz8PpCaPknm1l+y9tt9AZ8Ce16ELuzOfkdPnGFAgFySvrjqisvh\n",
       "8zpl/0sRSNc5UR6luFwrm4vsQEG2lM/6s44VN4gFJVFqLT1QsYROn/ifPl8mUZRlGYEEYYPPTWKo\n",
       "4joRYv2lCY0MQIY11UPvN0NZPiE8/J50YkiYtUn7DvROPikGs/ej+CtrHyijlI6q67ZiZiuplXwo\n",
       "dopXe6ijchtMfikmH7pfUiiPg/PENy26EKHso5X4oDSWlVU83QL7tBXcEnk6sBfWxgAAz4EAAAHp\n",
       "QZohbEP//qmWAClCZegFH1oymP7ykMMTuHRYDfNd3BqCTns1TaKqVivqssPGJdvKJYUZKR+VbRt1\n",
       "yPki7rdITS5b7ZJrwl4lBxuVD66BDLrH3z8PdsNAQHlnOLHufwujiuP0Nl/uPczv8Iy5koBSvO7f\n",
       "nM3YcELW47gZO2Q1hAPilqzn/YarybnUwCcmfSXkxDGZd/3zeDDsGfn8d4MMqcAWc+Uf+yIAwf17\n",
       "DlLZW5WSIKzCWX8wGelvpKyPnULsZUPgQnUnoT11qv3F3Ki/jPR4lq5UgJdZHLNLe97YlRrp8Cyf\n",
       "1mJv4mY9fHrfUiaYByGDOgB/KvUMl+plTSsUjVNQLFVH4PcxFoYYFVstldEixD3I6LTEKxNYI/vm\n",
       "4IslExR4bjAhfTjtXauAHErPYfumeacnE/F+7XJewAnfMjlmuqb/2sPx8V6aoGoUsJ+8wrO8E1fv\n",
       "VMOu74oUar8N1Xt6MISe3AUO/Ehq65Al6LQ5YzeTqHcbmTMNwKFfe4dvAAfYvmpQU04AFInLktV+\n",
       "MZcIkO8FnbhXlis3OnzshiXuSK35S7T+j081Xm0MXmvvd4wPrMH6tQW7lHypP1KoC81wsfYDg6/m\n",
       "szT0sigLqTjv13hnAkPAnnrqc9+kRqPqJFjXn7Stya9AAAACXkGaQjwhkymEP//+qZYAAAkPK/8E\n",
       "7fABxvjypVkR/a6bmcviBqde1kiwnC4BLDu6IcmyizS3iSax9QrkJMHnU44MblFuipOx5l68l4cv\n",
       "+uvhQ90OqA3Jr7XGI/VJaq8GepSH6A1fC3sbJWciHTEdKmep8R15/cGUdNmyTXSFKJ+8U4/v7xRr\n",
       "4ErLhR5Nt8ZWnNfWZ1dC7vcGG7zdnExogxDa+qdEJNz+7OTFELOmItFaIUrT3vtI4WRUDSSht1Xf\n",
       "ltVFWnb0GlEkQOI9E9iPWpTURBYkDheaJ/cRd6u7CiKGnxl7IsQC7hFl9BlNrviX+HDEsRcZoxwa\n",
       "/pI3aq8kFwXqgnLklrOGYSTRmV14EFXm8J9FeXxSCK6otmqzUddiSM1khj5jFZP6meLcolxxzBfg\n",
       "HysmhHfpqx7TNEs64ty0W9ltnhqjfORsgOFoJSJ90yu2x/NBBqNqGLXYmff/HXy2vyo837+I2/tQ\n",
       "te56Vu7d7/j/NPsVbKc8HqtmArxhGU/yp6I9yxgQQlkjQD3lnx0bM1jO6feI1FGzfhyNSSSoixNE\n",
       "hpN82w6Eef/48QxAMAnWJxv19iUbLfb8ETacu9Z9ZhN1vpkAAAzP/vBPEVR84XsIxguc1Y9UOGLC\n",
       "/WCvSBTSz9mHk/qZx0HnQNmcFtSC/W1/ePEKEJmKY5mVnNPZKeSw8Z1KGx8Sy9pgbGwqzVKRbr0Y\n",
       "kWGlsn7mGRg7GHhd+z5aApv8574hs7xPXXV+me+SGqYWDzAtK8+7p5wql6ICFd3OX7niOVSaOAyP\n",
       "QfuiaOAAAAMAYFshNRABowAAAxBBmmNJ4Q8mUwIf//6plgAAJjyv/cG+KACH7TrqnDe9r9++9s48\n",
       "OGcRxJdgzyCUEF3INEaEqQf+GVSpYjZU38GVT9XPRd+N+uYRD0WZeaAf8fbwuFZ4cwWJNE9TK3QO\n",
       "kFWJN7y2RmYkI4xmUGvjOUINsCuv4PkzuTAZ/efvC+UoqFrag8kxQjF/80g/0YG7eXyYKOSso+Me\n",
       "3LWvrxhkNoT5GqzpCX+5GAA8QFxydF3gnhI27mkqrIqwl8fUj1ixlAy10RctkvSZSqxfSw0r/art\n",
       "kGVyQZxrJhyNpXMwnkJiw2/Ey6yaN0NdC5tfHIfpJF+qp2PnnoW1xsxMHH1lgSYlEgWU6/1P59wh\n",
       "9WffZgPU2fhqtHylVZHAVK2E9xsKx7pM+onP/botnLYptHbAI+GjILH8LYUkiio5AUkfCdzgltnB\n",
       "UyreX/9TvpHRXTuznnuYFWDsP4z3I1rouISZ/yhCsXjKhzQb7p5j/4iu5ZTZNqJHwXFFZk/nDbVv\n",
       "RFjlYk77H7N8hQ1nNLx8wzn1QZXw9cU3vxkP6rQwklq2xxD0lg5knvoRngBYmwU3ylSZD64oHpJW\n",
       "ea3EwbTTTHEl79dykD9LYRuoNQeViybbEW8PExSXm0Cqk80GOritIsDZmkNMkYOeD5fy+Q7S946m\n",
       "9cwHLBca1/A4ERdcOxVom6Mk/LzRp3piqpgvQDEI6Dob0mvfI2zi2mKvEcVxGOs1K5/RhteTFyz8\n",
       "Zs19mabVBcDEHTbhdpfjwUW3lFLgPebO2V55a/DfsR4wrU5HYkqpLfQqP02YolAWQoX361IyChR2\n",
       "5JjMc3TPXItiYNwNuHF0Dt0t0EB03J7kq6HJt2i+ZNr8D59XaHTSUgWcgQ+Um+s2ulmvX05XU6JU\n",
       "HroNri8//DG8R5mbY8taGNQDt/dxTNIAS40VqExdKS0LadJH+h+ZrWnjcAxlnAvot7MRjaVOJSXG\n",
       "VqAODY5igqquZhClgNLmrqDxqAdO5H9lFrSjdOwP6JJaos6jBGpX+fJAwbQAADu1kVXgBF4pUaVV\n",
       "HRpTgA+YAAACCkGahEnhDyZTAh///qmWAABeOFvw8w40AH9IfM1qDjE77E9p3GEyH7WDDpECqQGH\n",
       "TaNulyPTzxoClx7W9LKRS1UqvKm4xnnGnCwzmr+54GnMt3PNlvuDzQ2H3s4g8JHTVy9m0FpybzY1\n",
       "eq7tXx2YaA/KqFyxtgp3ktskPy3LTVYoesnNG4ycLQFoUGzb3hB+AjE3D2papOj8ggOqa/bKjiJk\n",
       "ImT8r+F+54Geb5k+zCz3HUHKm1tYS0P5+KMOtIaXXuD+KHABDkwcYe9DjR8Xdrm4aJJ6slAaOBPG\n",
       "h1OFtIwcgVFQGPsvpJs9MhRLLJlUitXxmfV7L9t59+xhghDb8LLa3I4EgdqNLZOccsGvRWZMLJg5\n",
       "P0E5w0mKpA0wxBjTkU+SjSXhXBadR7iCR+ougLXQW5G+q02FdkbGk8hSGyECYBtcYsK4YTK/REzo\n",
       "zrKZ4v/680ilVa+7+pnSw0N0Q3Wbw/U5AyGtLowdDYgPGTaWovQjp9mqqzt9WQ9QX1DTIx3J81wK\n",
       "AfhgLJNlytJSLtEQCiClmXj7Ri6F6R8843WivD+cWCxdJaqRnB3eRVomQsaaUGAWRCiLyi52Q0EL\n",
       "pJkzcPJG6upJ6QSGPErE8IveOql0T1Mno0ZAZgC5SrCPx4XETbMU0VACTJMh/22qXhvRvArEmigY\n",
       "M2ZROxWNOChnfDWWAAAJ7mWEPQAAAoBBmqVJ4Q8mUwIIf/6qVQAAN9/Vz703m67ThdsAnAZDhNyj\n",
       "RIACro+7/5/BXQlKY8gf0LZzYV2vZeAD57/zdg38VTcCvD9NU7WeHyBYPuoaPFYnmFXL9yz7gmvX\n",
       "dnM1zcOG5iwIQsxLNyR5cF/Ff88N6m9B4CdhE3EdyAx+97x0X12Mj6+NUKEseSvw7xfeF+l+q5za\n",
       "XT05Q+uevF5T/0yQDqE6bVDY6ZXuiI6bPlNWxeYTgn0ANM13SzR6cETNehb+VtZMwLCBFn4waMXu\n",
       "qQxogcsvQZg21sR9MD6y+KelwQ46edECzOrkye4ulSmKfz2ETbr+mBS45R8uWTRdfnoOI8Xa5wuF\n",
       "UNgSdONT6A9CMZlg4yPHBq5YpR5AhMOgGVI0nDsydgHwrUdVE1NFd/42uDLlfNG4+hAmwdgNXa+i\n",
       "AadBiXuSFdeeJR24c5fQBxPANR3cQkJP8GtAQhS/9a7qheoIBDaP2OxmiQX8KxB26DoAQ1/xTP4m\n",
       "oRe2nF4BRgs7TZjpiS5+/shfvxoBBsHGhdiTcNRsylZwh/2FQOjk6KxRfYkmhrcwrNEoiNOmxh1I\n",
       "PrVV65ltnxR5lHAmNPxOCkMlqOuWclJXWDfAwluFgH157OUidOMgPCbPZ0zxLy/iRQpigUS0sLn6\n",
       "CctH8GFV/LwH+mHSYRutFGz0LmOFCWUWjHBmWVpsssNE8+ro1nhBIz9z5R5CepRNPzQi0ObOM0jH\n",
       "2s5l0R5MUn+J1p8x4bnaukEZ8q3bHgBPTNwxGeluOAhYEz/dnsYkLV6LPvO9Obkwuy33PtwicQRW\n",
       "e0rjdF6PCqRPVgZb32ULSj/SHkaknovBpOeQX/8T5IOrxVG9AAABf0GaxknhDyZTAgh//qpVAAB3\n",
       "TwPz9fM2MZp9Oy1+pG6etj5zzwJG2IBV+l5m9d6klr+C3cHkKCbHnECiHcCe1k9kktGeqstY7nk1\n",
       "NImkQjShOgXrCgnrIIqMTielIC+oSeLaRolraJFGtedJ2nEsbu0+Nnxu3cWyr+f65IyHBMlQe9r4\n",
       "QzCKK8e85reKEazQG4L14kEMr0zF7+VyhOQ5wL/sToHF6iCzZpqO4ZL9QySXfUZeQ4cDZFI4YJF+\n",
       "llLKb1Wftf54Apgafn2U5tCf8WALcKkd+hmCOulqVVf/5KbnZ0jUEKaNzvLuwuK0VvgbDG5b49ci\n",
       "n0kDP8CBwXMszn1fuGQL6We/mQdGBcR6Tfv6Luhu/KdFfvuqDUmM/Ix8fcSPBbkqw4tt4pD/ZSmv\n",
       "4dytVtGeN2p1v8dcQzPijUuk6q+O77bjx1XUWCPcrjruY9Bnwoh456QZIHE2i06KFLmJ62NsA7Vd\n",
       "U+JuoMRyV5OZ4p+HvbJSnsYU2D7EY2FbAAABZ0Ga50nhDyZTAgh//qpVAAD6/1UjL5mvDriYV0Oh\n",
       "sPw5V1fSoy2HHIiIufUDiAApaBuYCL7OajtQCU1RCLsxJffDS28RUz0+xj2knLPx4xdF0ynM1unm\n",
       "xNlIF+gUXZzYryAAznejeWVDhhsdcM+YNP+y+OWU5f7x7nAQMolHNabIXeQvNJBThicNMKZ2WF5L\n",
       "sDYNH0D5oDk/rq3SHvrg3Ucy2mbixmpYyFz81FyJ4Q41xWoAfnd9TiTbl7ZVU2hZyTAGTAUnYZfw\n",
       "55ZO3m9EFWFMl0yQ1dmWoo4cKpV6O1RgTP5j11AZlhSs/SoCaUlZAFiUOgoBC2dcL9/Bem78qWhu\n",
       "vPhR++1HofDs9axo5mtbT4knA/cuJQ1ItKdsbcS7Ao4PdolwjtDeyeyC6wFHxORYNDSSpBqtm74M\n",
       "2YA+75tiE0TrvTPSJk8ePbs9AMLxgTPAfdfjq9reGia8mrnfn1ouqiJI/AxJAAAByUGbCEnhDyZT\n",
       "Agj//rUqgACI/4ZH+bPTMAGZUTI4oZinYb5PfC893dT0rFVFgRxxMQNnp/hoOrK6ACdkJSiD7YPP\n",
       "AmAescynihpa/DYvaqYREXcr5d4FNZudw3F571Ax5XfF3oCLnt1YtXhD2WxgiaOAkbdr2jgtOi6q\n",
       "H0xZBS5XpTwppDUPyTO+GCL9oIueEXTUrTVsfnyrqiMo0eD0jHsDeL7CRYKc7oFGu0IXEN6+qDSp\n",
       "wqJmwKa0nsTEnpBn+aPcmN9/7Tf6c7P19IumypfP7i+GPErqNU7dPhtE0gHXKUtx56G5efLawGu1\n",
       "vFXlp5D3hnf2PLJ//MOlhYwB9pLYdVvEUEJV5NrkPCUBehNI/3IzMASaXhDQX+xwmEd/lWTAPVFr\n",
       "UyClwc6JY03VkhyY2n5NRCDSa2Oh55eEaxyDO874kf+v7+rdSKWNNIvt1OsilhvrUhHiblkCAw15\n",
       "cqSIwSphZh3cmDvw6yd8bO51rKia59/OgwgYgGbkP+puHEDo4qcy1LyN6/2ZXZbFyk5w8/9y/DpA\n",
       "b0+s91r8chHG9+N/+sCLGHQYcHCCQPBmOpoOMHSBZ0zfHhofWY6BclrZNXqkkPZljKgAAANQQZss\n",
       "SeEPJlMCCP/+tSqAAmDeDcAOLb7shGTBTcG+O+jY61qo/45N9nc4IzKjNbO8Jxj6EAiH1Kb6tDR3\n",
       "zYsxDu76n/RlgFHtut2YKurBl4Z19hwumKZ2mN3wd3QXw2mfZia8ByBVCjYV+K/QXXWqf12Kg9QP\n",
       "a+LRI0SzLYlmgVK6IjdE09Ic6SXaV7q1cKy4xhpBly7m/CdiPVz4bViDacRD03jfxgBzhMKsW1KX\n",
       "jBWdiwu5e0JzW6luU2umquMBDGGb5HtmkaffhCTu4xA+BDvvDaPKkpB4UzNgm7NUGtFyrbsLACnf\n",
       "yC/hykxHlI6dir9ayKE2LN2uY9kU2vKsZVn8V5hb2Y06Rdhcn8Yux329b8+QR+hpsyL7DsAwHuBX\n",
       "1ZRL47UQfZ5CrRsLoO0sbCVWbD+T7RGHV3PWDmJo6727Zf2gV/+lAtK/wYox6mUjvQG5QWuDbw0Y\n",
       "YMIR0lBnVOXPIPe/dmsUUkMJf/Ut2cWr5m1t71Ch4JZJsEeziCZbP8l9iRakcRH7W3ZOFwFF3WfI\n",
       "5ep/2QSH2fQI2W8UT3bWF/VvzTOrcTPlV7li5NFSzpUsOtvU6CUNEkAIhJ8+p86Fw7gbiNH5NL2Z\n",
       "De6OTZLk1Qr01yZrBWQYQGfsgnSe+AAXo6Z/YlP44RiHyLr+Dtv4P+wD1lQW0eyXJqGnyP2rcZHP\n",
       "zss6KYTr+dwHiEwkXIWKPYkAvKFk9ftPXTGi5we4q7A6pRdnjLiysyL4hy9j2F9igiPvnwgCju09\n",
       "RWe8UWPZpEvN4dNG85AxNnokwwMVC9cCOAvVgAKxJpc1yALJpbVitdWI1xi0OarbEiYRsQIIV2tO\n",
       "lWcCym9uP/Lib/j9hCcmDi+ibI6o0s2aloxgJ687kxODN/8ZsW8Lt+6MpC93yeS/iE4OU46RFl4m\n",
       "0ywxmpSnmuV91YRvlAPevUpZcGbAqgjR6uHDJAmwMNsSVJ2QyKk9txsJujp4UoVN0UVdVjHq9B/S\n",
       "KgL4+NX0cPo3t3fBHDSCNRorH5Gram9KH1dl0XeUCG3HYogDp4fN2hyALXYO5IvV8+9Nu3UKBBSn\n",
       "JklHio9BAUQ3b60upuDmMJSyXYddzhoVGuBNCYmjEhrqOroNespbzgAABCFiD0gAAAH8QZ9KRRE8\n",
       "O/8AENgAw+PBNhdpVo3rEY1KWFnoPQAljJzVkzVNP4Tr80sk70QBhjEmIGRsH5iMsBr/C3TZEwa1\n",
       "o1LP+phfDtaCXoFJEucRgRD7EXGr8Z5L8LFsJUhVh88BsWjgmHzTvulEXeEmQ2HP8h9AbmLpC0Pv\n",
       "hqRYAM74UBp0jSJQBAlhteagFxvjFHqTME/PHlpr45MRb5zG84WHdASyYSn1ECUE0mW6Kxk7JMTT\n",
       "AAMPP5JH3BzJeJhQnnQN9yqAYbz1MwvtlXRDmAfbykVBdr6og7m1MlmgM03dA0gc9np/uT8cmAYd\n",
       "k8AQ2V3juLELMmON3XpwB+pl4/D2IzuefWz10w6TePGW3dh6k3ICzkM7jYnhLuCklzlo6xdHmMR1\n",
       "hS/GVb75+71P4FTj4AK8Q15gftKnX5j7ktdAGiZCSav62j29fzRpchrdLYg6y8KMQfWYCKSCzr5N\n",
       "/4tOkq2NUitMwv8lG22rf0qFP5lN9u8oHO7BFXKtwVCn7dNMjJizaccRfCFXuzKR0gZeA4ZC00s9\n",
       "vuJ/uOPc25xYxqZ8yDRyd982D+ZM/IvRXIksVwu/ohjhMtTln7Yb3XtaxmFZaPTrrYPZi3/C4nwr\n",
       "4CmSbv1Pe8MV2D2IG46TP0gQroMBUcDzvDobrlabOXes4aSmdYEL2TNiKvIsoQAAARIBn2l0Q38A\n",
       "GH6wR22yEWZvC4Ojz4ywEoACckAlNh1Q8pC8qd4Tz5aNLSGoVx3GNEVIKhEuaEA8nYf0KdfpFW2L\n",
       "rMNy8e0QlKMmh6pHSsSCvAQgk5uTUamX383AFeQjCNUG6djyZCv1JSAxjy0PtRF1L1FodWGXPXZ+\n",
       "UU7zlUKMBwsr20+qpmh5WpTcp/RIXqSRO5P+4VtmyYM1IQtBHIZunxIdiRerH7NYeO2VGegpm5cz\n",
       "q+r8Ow35GnGOKJXHV/XOq9C6Uv2NFdjds0pafGs1RY2rhyyHymU0sJRGiTYhowKJHKDTQozviH8z\n",
       "xD6iB62KKICxo41YmLSvenU5p1M/5NeKmlwEhT0m8CUyH4ig94FbAAABGwGfa2pDfwAYguzSISuV\n",
       "RqXhLyC878NNNvknGqN6Mf6ZcJKyHN6LjG6nxUAIU930Jy7CiygP8C8F2lVl72xQ+JDTAJskyGEw\n",
       "RB5R5Ff4l46GQlO1jqABHuW2+tm2Y2ZAxhfZl3s+Pp8tOAxGuIZ+AU82SRmUgb7s9Y1/VRTCfy4r\n",
       "7ToKBOijBz/noo0C0bSlyMJKFH8KDYOlLiBkZGmWTqm1WPMfqSLGvdlVVehEYlpyD/J+mNVh9w7x\n",
       "+chRuc/R0z0uYFcmIZpdyBgI8M/ue7/iBGUyIfh+w95LSwR1sEj477JUL3G7NNShgymsswUUES/d\n",
       "YDFq9zC7ZEn/qZAb05+NIsZ8Sx7PpqaCy2pBBL2d44MZlMDeIIqYBXwAAAM6QZtvSahBaJlMCCP/\n",
       "/rUqgAW/tSoDN1m7FduqJ3iv19F4M1grUHgdz+zLQEz2cD5qef6i5WvLgWyFBetUQ8x6WQ7gGRxF\n",
       "3ss5HyS1v95FrnK6kEdn47dJfmmJsmxv4r0b2DD6jKDBysKQ1TucZvzYnfsISxWysbd9oGV8Eo2V\n",
       "qUgO2mxfHr3mJ3Q1iG2DwVfKken3Cj+NzphzJaurOhPv4zcBOMbJykfxcF+yOWM6B8jz4dKN2xPP\n",
       "06xt8gUJSLwF8d8AiMmx7URW21O+HFfXFyMAVeqJBnAoP90egL7EJjzzVQn7tCv1GOMOML9wOfwz\n",
       "0YsLYDaZNO5WSo9m+JGrZJ7Qi5RrT/GPztwO7FDwS6e1ZS2HLPUcguq601jbpTNv+lTLSSigfL4H\n",
       "m389enouRf4qGPfBgn9tXrlA7Iof/A/gWKNjp0DtHq1oH3eXe8zhL2bTErJ3dhQrKhEgXlGoFpNp\n",
       "UMT0SjCY7uDtSf2Ft5P1PHsT/6QQ56AtYHzlxo+RQTTEQX6aadHQtEfdH38R4cjaAfTe91yBU0ao\n",
       "bqPNuJHGPnQP+0KXLs4Q1orkTdBR/CeychjUPXCBASBIP8Hz6B9vTBAhjgVMg4+eknzLxcAe/Y/p\n",
       "NKybut5FFGolzwJo+bLugfWyxCoFKcTa0fQNGfS797rDz31mtw7LkZnbQFHFE2l7YsVukoVl+FqV\n",
       "tV36ATpbNV3EDyFHYQGIDL0jhbdLT8cP/NUiJjbL0Ik+IffgvGypoq58DIbRWeEnVwQtolw4uXAA\n",
       "nHuOP7/9/g0qQGzsMTXO/rx68OqOlAOxdV16i3CPuMeKa8ZR6SKj4/g3/0zVGp0J/jCX/BX8rPd/\n",
       "zg2MfsOlm9b3mKfufIgf8nIBgteuCyhhKia01RNfN4GbMtGTEc82Kh66QapINWmv4Ik9uafb85qy\n",
       "KfLbAsTsGisDkJnoHUNTvXxGZWHxHGB28rklBzkRJzMcKMu8nkg9pGA7HYvZHJYI15P9Kf0Kh+L7\n",
       "GZfT642uEAOR910UH67QqtQqBL3+5va+m8gYJlLVTDBqKUZihPjJgYFK3DrxJ22z4c3dZUTCh4WW\n",
       "9mJ1wm/hqJqpF0Kb4Ik1UQAAAaNBn41FESw3/wAYhTXOvNdvGwC/1lsWlwAt647cT6xKggSCSUtu\n",
       "gkOJ3F/BdGtsHY/WtSCO47Azqm6vcBPgOyKjYgy9a6RSSjuhkJGRYqVb6YXWlsKBYLZoTxOG0amg\n",
       "xqrN7i4rcqoW+IyiE2tLUDm6Ra087tkqa3dxvbzPyIhO24msi7a9kHyUU5LjYQzp/+KIjx6hibmJ\n",
       "doIUondpHHfHKdl4pQeOfvmo6z1DCdRV/e++jMQF2wY4o3icVQ2GesLEEgP1awcFjhdKQRzqPbiz\n",
       "U/9hoK/YSPTfX8hFqqX7uF66XlH6FFUGnqcGsLnsDMwkUqjlrRQFrK5g5GLOAcrZSA6ljsLPa0Y3\n",
       "tzjqoXY/aHlQRI9mrM98UAp4mQ0+flgOEGrO1RNi0rhCeBMZADzU6TTTClSnYZJXNzPqLC1eYdVz\n",
       "JrUoYkFqj4+N5qmgHAeyWdzaMeFntn8MiGob5OnMBrapH67W9KHl3p41dXHm+tRgEi9sn0T/aDQR\n",
       "hgihNXzaIhptc/Q86n8u9T3ILd5TehXObURayOgtRKaoKTU3j/AIGQAAATkBn65qQ38AGD7uYaJ0\n",
       "jh9Gy5ylI1rVcAEEgk6bR4OPkq7WAEOdNusGDfb4Rz+yZEUqd8NowzOyGaeAxk7L45Qmna2TOt/i\n",
       "e/GCbz24NLijsQyTsKxrU88QZyQF37Hic+CPV7XeGjG5jbfB/SdPspKEr41TRrY7Xw1WvW6s804q\n",
       "b3Cuzk5RIYTD4ioo02WSwitqXUJ9+mSHgfHAhY/Cg5vKaP0hH7ipqBPXQQfFlavD0BSB1cG0UwuH\n",
       "mJDFpIDjrQx2Uyo/5SKFl9mWH0ZT2rfFxMbb+BZTKao2BsSR6ulgcOvMxGabezA/9ioQvL3d+Hfe\n",
       "my8mIEqbhCLK5nRJI7Ucw5M7SpjYrZ4fd1ZfSytZz2TgAyxY1gUWPjp8ipwiXKN52HeXsb/GHWCH\n",
       "jk99gB7ys3Y3lqUzgFfBAAAE0kGbs0moQWyZTAgj//61KoACk7PNgBw+YANzkA/+/wJZqKq6/0sf\n",
       "C/p63SiPFLyWZYpRFRZsSVfWLjVNKsbpHIIn8KJluRQBY00rV8E/lTaj0sKw+CwTVHw2RB1u3851\n",
       "M77CiCguu8l/HxC1sbF8TbFhI52RW0OtGmoQvmA8+1LIPXNDmqSZiJUPPXqfpHmCUYoHHiceiOhb\n",
       "Fg6ELj24aS2z11+N7uYuflpe8NQqjo13OVLm66NI3pWbwYES4xKBPTPhsmQfdu/EUNXIYS5izFT3\n",
       "Ug/s3lvSI/x8kpykGWsvW8xamMyFlTf3Sl59U8q6W8/6HhsmappeI57HLRiISx/y5C/yxBBL7mu8\n",
       "QaL6WsD6s6CDTAIjVhD//qU2UdxY799sShhZKA7fyrU8K0GLbFIeyUgsnN3KlcoFFvLhcsu5MadN\n",
       "H6ZSFrpURBen/QiyR630m9qsREI8xSVzl/CURJ9145j4o/Yk9b37zQUhWhfACnISMU9eEBTBolG2\n",
       "58jtcU7qIg5bRjytT+chzsL0nQu+VBqCowLCJ5yv+5TTaQInBF0SZAMpKr2FKObBcA5OvxadBmvZ\n",
       "g8QtVVTwFErPaLDb63X5FBq6Az9PcIO6m/TgS6GKsaEMWOOQJY7fs4m04+ci0nbn/ODb11+AKadr\n",
       "aUS3SLhIjr7umje4e/hV7N92H5TkzKBREIQCZNJ+AUQRYDhswEjCfNBR87MB20fi0LBKqD4sklax\n",
       "6MbockQotorsLL077t7ABoDjFSA+s7fvwqptVENC7lwHpAls7qAM2bbpyBuoWbOY9URRttUI0nst\n",
       "rLHw6TldxihOBur/eE9eURC3mYJjCZ3lBf9f4TmRidFAvwGHMzROP6TZN/L6mS+IaTbd+3uJT1zO\n",
       "p8TBRovLIU+zE4NsMasOM2QScEjjESzM0Ji0sIY0W3FORKtQ7ZnLME9d5MI0Go5nyY4pdRJ3KZzz\n",
       "JCuV24VtdeBQWckmWIpOstKbUW+Blg0E6xjpT1x3IBiEugh4QvLu4nmCGT/6LaFBfIjibCO8OPXO\n",
       "a/uQ8FIsTiGE+koJ1jbvprzYpw8llfEqj4MCJ0Hrni/Uv6AM1TqlXeg0DkLovyiXajk1D3vWJCwz\n",
       "AFZwOv/DXtnhac2KStmHBg5IqNxWHjgVkbW01/NrUIsVptar5rzQ7S58yvRRgaAhYehLzGer3+pw\n",
       "+C7WvJ6xMbORFJpWGjUWcCVyvI8w6BCOn8mxEdbhB44JeyFmH4Ae6b+d9rzgCIy+tDSGuXYG3g2s\n",
       "W3LyZbR9uPrTG8EiW8QIz3fJw0cxAzz3WOoD4Cy9doVDuwY/bDKxDemUV/zn674AAUoDlh1XkOpW\n",
       "ZOPmTQid6u7Cb1Zw4QoMEnj1dkeUgDHtY7TFMgvGRPnTvMItARwxg+TUj0a9vvs08/HLznrbjWh+\n",
       "BAzPzahkODvw9a3zOMURWQr9T6xjdQ6Q5JRb46TIxF/2hJ91iR1nZ+Wywx1t9TU99b4hRFKxspH/\n",
       "yFYJ9CgCF7bDd9vN3+O8T0cJJCz6elbuHzlnCdq+nqdjRNYOYM6RHgJy16pQCECyMmkPh3VXzvrH\n",
       "/meEDCdcHwCSSz4fpJrln2YzxMG8931jSFZsqfm7ciShVs+2LJxPbspobUqyzW5pwygcWe2CJvgA\n",
       "AAHhQZ/RRRUsO/8AENgAx9SmdoAP4Gkvle5OABcxf3cXTK29YenC9yQzznmegUJpmX/n8G1LnJqX\n",
       "LHfW+/lit41kAeHhnqGaTqSgpmCcn6tbT68B8elcDmgKrGk1a8VrSoJru4ZtPlHm+wDKzPW52zwz\n",
       "QKqjyIgefqW+8/Nb9OwUFLvcLJZXyZEjHsAEiQZSzjhFz6cPLuBUEuzTwVemQg0YjblZPWfZwpja\n",
       "Pr33Yr161qM9W6l0kZ+DOmGaV20p9SXVpfbuyent9f9nnYSsUFv9cNsqoJ5LghuviQgO980eeaTZ\n",
       "JKo1ITO1pc0D2bU6MptForntyAUWUrSA0lfmVTeB6HmBP7gZC6S5Ce3+Ph3WTqf9sS/EbfgbnxPw\n",
       "2T8N6G/8qYV1aWZZEqy2XXGWWpvww9Fgte5ZhptYk3irwinCRiV/4hDwBVtqbYW1uvUL4W2pWl09\n",
       "RRzeg7lL+fMu2fSe4ExvI57iNT0XJWJwK8k/zhDQoye/bVJAlTyyTlaMyZ9zqwUCHQnve9ach84q\n",
       "IVdP4Gt87WGQIuZpLp0s5U3//4gtLXmPN+H+8xatlZXjZrOURH6pmTXQXLFU9hWwJ0svMioKQ33d\n",
       "pQihjkIcbSHDkx0pXDNC47qOJaYYfMESFWzS0gAAASYBn/B0Q38AGD7uY+a5IANquQj4DrLhvOY4\n",
       "1qCAMTDXFYC87YUTNGu8oibKuh5CxCxp3rEBpHe55+MDh6yNzytwh/dg/5vNBnXQrDzZZhGPx8ik\n",
       "CoCPif9w31utkxOkjjhPcrxJtdWYFbv7d9QrPMdUWmc78IGaKH7+OBrqmLXjPvsXxTx4jyRSwpR4\n",
       "MP5Khpl70lCINjObfwa0zyK5XOrs5CRs9c3CWWiXFbCib/rmVW2jLRSBwdbE7EaAcWji54OuZSJq\n",
       "N2iznYGk/2mtyGqFAaBynSODS8ehvSalMbUsZ8h4dSlIEZHuv/whQ0+sA9S/cxL8C3UZ51hl1SxT\n",
       "1eOfvbLHG/m3FOCedRwH8wXGaol0JE2gtAZZnCgWn4/UgA7rmBlgz4EAAAEiAZ/yakN/ABg+7mQU\n",
       "UgBCmtpu13crsvgPmqt+qQsCgj7vlToPwt1+y7dGA0nPACuWx6DdVJPSPBAUh82jGt/vytS/Uwmu\n",
       "/S4ndOMOXcTCyKSNYg2ukM33NPEjDE82/A9ympAnQeoqmHoZdQ3d58rJ832rK2uyQ64oVVrhKnYA\n",
       "JAgLTXyrTFD4FPSnSrG2NZjYH25fqrMyZOkPAIS9R5VjR2tSUZv8yObs8dYtVZQYRP0BaVdG/yoL\n",
       "TXu4k1kaVqFxr8ZwxfjdP7nYGSen1jrkq8DagLwknUKpO5dYJPW59OIcvcGHAEdPJpPmSUewCoul\n",
       "XaeafuoD6V/kw34gIijKsx7Dxau7Ka3El9AEplEm6ojLWfOknff0A/ebAtU7MBDErVYAAAO9QZv2\n",
       "SahBbJlMCCP//rUqgAKmT9IAHFtsOjW79SvQnvLA+S6xmfywB+YlCrC0/gNkKLyb+AwVmqySo1NH\n",
       "jKctGKvP1QPvZtdNlUQxgbHNbgesGj88NXJjrnIr1jfDgdhxjDexp0pQ0nW+BwDWss4rvgPGvTY6\n",
       "aleg1Mk89iO/QyLW+miVkIxu6mKsa4xZdbNcgxG4P8/4+iSHEMz1V5NL3htNE4Ri1N4y4oUoubrF\n",
       "WyckaowcoBmXBhLD8n7+1ULiWnckdN4yeoox4kdBwmGvl8lMfAO90s6Mp4svIPFDQo1sa4uSedKn\n",
       "Vuk1Ka+tR/19Uf2cOuZfxi69rS4v+Ipc9m5NSJ2c3OByanK1WoR+4TjuD94Xy94pwrv2Hr9WIHkA\n",
       "A5OH//I9I5udL2YLhSFM3VMC7GOpZ+K3ZA0r3oInXk5LgWuZxeji29iJtgbSdRnFjdeDPNBNYK4y\n",
       "6y4tbrRAUXJ2131enn4Rb/7hgZb0nDd84Ym7KH3iJi37xhW7ytp0JqN2JiCV2jXyc/nnFnHNNvvg\n",
       "i/ylSRJ2mw4QE7ki7nYpiw6FZPdtNRG9R/DSGNfwOizUL29oooRfdNiK4JSa0UwH0ozT+gKOmIFw\n",
       "NMTTQL5oRFOsUmFiRd6QpAxRIsQufIK+jaYiUFjYY7tl9flqRbfAGzSuPjtNpejH4RxCCgl1PL9z\n",
       "SltRMRevXQ+hCCdbiPjxWp7MJC7wE3FQfF8iYlyAAEURvUMQXRfaWJoF4of6hPkynkd6g0tjq5ci\n",
       "tM3YS6+azX/Ajfsy8G8CJBlyTGbbyf2isC6cWA3ZeLC8ILGYzE8Wp7KIfkbh+ogbJMUpsRUE8tvc\n",
       "s6aJgthSpFN0GEFKnJokZOgnkpGYPAF46qcQ1rxKJjqGAqvbh0Adp32Oz9HEOvPdJP+pEcnesxQg\n",
       "6U5Wt1447SLTUQPGenWgFTzbI6QUv04r+aOjyMhitn/ey6zFvJBVV3yBUpeG0cDWxaLLSSHgPZ2z\n",
       "eSbww0IpGnURCgCEdXRJ81sgPiH8sjjneqJR/oA5Gljo4/SzGTBB5PvQk0wzf+7180QCxsGNbh5s\n",
       "PMz4Z6pRkc9TiXmlTJGeY+pt40BiGZSBaVR3g6N3WGbAkK0P6N+OXCWNeTrTzfbu7XsrvEso3Urb\n",
       "mD0uymb7wSh73QgGSl6Kte00KcOX9CfsvjA+tCC1wo83SeLXX7SqtXRqWiaZfeSiqKweqy4W8enq\n",
       "OINY6JCGQuQ4DTUAKJ5o99/l0w4ddbP9yCSAZ4wzlKv1HZUz4kt9BcGgAAABUkGeFEUVLDf/ABg+\n",
       "7mZQc5AC6rkvz5WnelDW0BBQw+wnnV4OU24OFjUoC7RHp2Yn+NAHJOA2MiK5k6MUnd7HJyB6VHd+\n",
       "eUrG2vXvJygrk+pHD8lMpltzbejcFKHcas2OfYxByqgGSbGWmtf7toGtcBiuJpQ15iQObZT0nAM2\n",
       "D6VvU7ZCsJbG6SrFjwSj+o6aKCtFiXOPRr567qUhu+q5ZupKUQxtPhImvbhQ1V268/C28oBUxRAe\n",
       "/jOo41I0BklvNHFnMEvFo01aJiCx4MFYiPkTLXSaZOevzBGEaSoZju5kxm5u48ztZpzuNq0pWmZC\n",
       "4uLWDW0dtOjFzyeA7dIqbN052NwVD/xiq8e0MREvXXmK6hkNwFUC6E3bKtsaiDFCt9loLEzDt/5x\n",
       "LRe2rvXdPo+bHYDTsBHqE0r/NwuVOoHrG2ZgWslbvXvO3t5CIDhfSwvJAAAA8QGeNWpDfwAYPu5m\n",
       "gQQAfwdteUYa8aAIIF9n5JuIqjkD4M47OdibqUNyzZmUR9mzcYZLuh54IW9w+yCCNGxvnf44PfoR\n",
       "e7VlNJGo6CTc2Dlz2Zo5BnH9EDVm25+tdvWCtzFNjFIBir/Vq+gCWuTV4RNOmsac5KQsrSbh67i4\n",
       "wLtzUJbQabFPD8yNYXPkkP+It4XbhVOSf4SVutfRozS1D0vh6v3gNXQQxvYPn8fic0yUa033526j\n",
       "IPJF3ccLkB8VDqozdrU3fE5/+IKa4AIaQiYG6VLWJVFxnpmgl/WNpcXCBVFWBl+u+qAMyP4q4GFK\n",
       "4ZkAAAL4QZo6SahBbJlMCCP//rUqgAKpifJ4gBXWyd5/moZuEzGyCthOit5X4yCSc73f4fbQKCmL\n",
       "vwPEJnWHjWgKzpM1xmRObXi5gx3IXx/c3xn7sx7d9/6MGHSSMVSrxeQyYpwVkDYeITzdSr/p6Ivu\n",
       "aZf9Myyuj0pfPko6qvsiC9ZxdZKS/viPXraNx8h5TXm9OyTDOdBwTBcbDNzGQjprKTe+lAN1yCl8\n",
       "73od7Km6I6Po9307II5QHepy0jdRZ3NkuKkVubXxgTn0mbMclGJNupsmcGuXmAvZd0VA/h5sHHeO\n",
       "5F3HD4at+GKrpEqzmYu7h8Bz+Aa7gz4w/S0j8hA/q+fa0LNo0sbM9imR3Au+PvWB2h08u+/G5XTl\n",
       "eGQgTN/tf1Rxsi0pIuRLrq0wRp87MJUZNhN+4Vi8t56eF7oHi65bMuHSvIIU7G26xirvcUOnlB3f\n",
       "h9jSlmSUcilE0bHNaCUSRZoliO1YigsDNi2CJeGnl19sMzJO/3uf9wd3D35sThJneJIYcjqiNgXO\n",
       "QgwSdThZ/VaUU+gHN8W6yJbBYWmd4Oh5dO8mT9wR7SdizsQz1D0mDOFqnlwRNnwnuTObKKPV6t7J\n",
       "HGVX2hz4f4HIiCR4LrOCfK6+L2zLYM/uPO3A4oOcnl36FMj7gzGAQf0qCAEgOjxuXT1aBdUXwM+R\n",
       "tWTy9+6r1Wgb7BXAUK9Z2DgOEfb2O9GqnKT5EEECoLXUK87tegAQhQXUBPqSdc3/PMwidx5wrauv\n",
       "4Yv7m2bFvtI/cuAiAVpcY82r4IHuAvuhAFKDp8m8OxA8HI34tN7LNXCfSzq8hOnMO6aOdJHjvSky\n",
       "f3s3glZaWHSI2W3giLWbla3svYWA0tlrGr78c7OESfc5yM2RRv1orTwd/hDmh98qDNAgejK8cxAK\n",
       "gYpIXVpM7fuMPvY67h4CSE3mCe91Z9VCapjhheya9q5wRD1Q2yz9q+qgEx4DAHnp27rzS9y+R78J\n",
       "11aRz7e2lKQX/Euib5hLQ3v5lQaE3tAfOwAAAPxBnlhFFSw7/wAQ2ADJ2bYATVGqLzxxAV3MrsYX\n",
       "ksKUaH1YsQzEE3j/+twQ8cI95SNzGbrSDAs9Vq4nYDqL4PWhYt0XfgI0H6s/gdgYOSrwXfu+vDQ4\n",
       "kJOxgt9kP4lRqiPmThrpIF8WPl3u5DStzRLfKUbmJpOVurO9OdIQeyqzNlhHN+ZKTL8CD6AcxCoT\n",
       "Ol6hn9mFVbBsrxj90INSbXv+z0SOCHOMoq5KWilWpsq2kqBNWQ2zLB6I4LI5uDeyn7yI85paFnJr\n",
       "/cqM1106i9bOj+PNMi5CqFFoY4oDt9zbrf2KL2505nm3SHwGZXG8rGMOAvXuUAz0Qba+wqcAAACT\n",
       "AZ53dEN/ABg+7mX189sAJ1q3HkyEceRs1WYJDyhKzCjHCjaahpkSRB9tChpRL70R6Sb9SkefYntx\n",
       "fES346ihs3yL7GEKb3mSCffqoEIHKIj+WV/Z+yJT37ebAEO5MX6VrRmq9dWgiDXdcIqdeqIWNUCb\n",
       "Q14v1I0QOXlQa1DMZjCVw5tGfp9B1L2lYERM424QFBU3AAAAXAGeeWpDfwAYPu5mjzqAEKMbiGlE\n",
       "hBGgwz7G4QohLqPw+XFF7vgwMUopZezZSs1hpU/3/NATvgTX1bpKCgnqM0VGMrfPKKExSdQIibkk\n",
       "MexPEXoX0DKIC4Bzk/TdAAAB9kGafkmoQWyZTAgj//61KoACplI5ACWrz5zTvmK7+1voqO1Vcjku\n",
       "73udGTMphkUuDGtwpAd3quTssIWxN6cVCcWt1qygdRlGQZZwBdvqGN8aYipM58iNjxRRMAs86RjM\n",
       "gX7z0v/qcWR13+8RywJtWHSGDL344xeXhMi1yA0iSSlzTYjqRwtR0b4GIrmSBIIwimuZ4pWI1gM7\n",
       "v0wJhtpqqgyIzDYQa4CMPNvWGVqyvqmbvYRabv7eoD/qTpyEr+aGwcz3TMQhRYQqoLAzrynXzQwW\n",
       "qSxcppNGJwDxJ4x+/3573cS1efs5nT96sDJx/sfyJRTkN3I/p1it3VHVvxPX803biqUVzUbio7Pa\n",
       "ej5OsPQvVY1WfqxM4SSKPR+TkTlBW4FsTQAyenAn+rnih1465DldGBc3BtLUPY17EixteCHp/Pea\n",
       "WFkBZh5DlJeYOe1D8DOrLCjrYvJZo7eMx2Wfj9BUIUIl22KZm1rBIcnKTteFuR5xQvG8pZ+6f6Ha\n",
       "fyvgjMNm01y0hVf+h8DU6379zCSBs+RnFmMuVNkLsVmG53QfyENUL/fVUDU79LVCNaUZ/KQYUWa3\n",
       "+B2lcfOvsrXiKVao7TzJFE6fujGKjbT7N2inVci2zY3AxRr6wEVFzQEqIQOlduJIT3GoOxKHdXYP\n",
       "db8AugL8gBAAAACnQZ6cRRUsO/8AENgAzweFk7K4ABOf11RSoRJ2zQxKrkne3nJPKc/ZO0eGHERC\n",
       "PKmXRLmolefvjBc5Wy0175DvQf02wwhn5NygG3EHMr++u8R55PZpwoL8Vw69a/zoNZiI52Hj8wT0\n",
       "apHqzYks2g1Nb48hgL0TUE9Bh38l0dIaTXw+ov66rnm7HD//0iRGWegF1SEYac2gb98woMUdJ0FK\n",
       "fQ0yQl6YiQkAAABKAZ67dEN/ABg+7m69o0xfc6UWg4/CWZqNnR57xMcKNC6oDYGS/YVRtc+uDOYA\n",
       "Tf4Fml0JN/lFzY/RRfYbvy/aHQxlAAOSrRwExRcAAAA5AZ69akN/ABg+7m7CrV6YgWMh1QEgJeSJ\n",
       "TOkoMeeDh6+mLq7YkSy/JChU73utorYkBvM0GCIWEJHLAAABckGaokmoQWyZTAgh//6qVQAFv+L3\n",
       "nEAaAC6rzkkYrefS613MKfjXQf6wPXGTr2UuMZtnZRk50vJx+3d1wE0X8vTNY34YXSWq2AZQP9Mm\n",
       "ICyILmcnlxVLtApzzzQrSi+EgUPU5IuYg+34R1sbH+dsLSuRGmpOsjWBhgMdL3ftp4tcE8Xm4DzZ\n",
       "czx8cT5A5mCBqShqAeM91Y2DCoytaGVXESesq7j22Was5QHALTpZa2gEM0kfxMZi+giYVu7Y6EcR\n",
       "8y5JP7PMGWeJX6MrhuDHFQDcMt+ieFDuaIQPnpI2IY6F9AG8VmZipJmz5E3+/B7uH9qqfsQVB8rH\n",
       "sGooveB2rabyCNVR0QLgDpFCXARLayYxRvchBGF0lFhK2UaY5aOhPWyrZ3cMoL2ZKkZmvOFOuYBq\n",
       "e2ezKAu+HdPY/eW3JX6ue2gAATd3i9Y2Dcj7fP42+jEsTfqjZstsITHKlix9jmkgs8lFCcp9WZnA\n",
       "M4T+HlBFMr4AAABcQZ7ARRUsO/8AENgAzwq55Ce7rhaOfN61t+QgAE5t7jvJyJuJqqssssidpCjW\n",
       "O89mAPJ48+pLBCbgbU/ID7UBOQeIEX4+GRVXq/buF+SmI/bDbLSD5M+N0REdAncAAAAsAZ7/dEN/\n",
       "ABh+sWYRpsV1/L/SKtGuBLCJyY4MODq27DLxeXKAJNgIiPkLSUEAAAAuAZ7hakN/ABiC7GqS8HVb\n",
       "i9Bh6uzLtiFjys3nLIFOWPYyhsnQBIijQxgxwUsYkQAAAPJBmuZJqEFsmUwId//+qZYAFJ5kUAE7\n",
       "a/u/4+Kibzvl38+egEW6eyCddn8L0m5iwE0aIN2EYiWNSTyVtFjCiKz6E9PVfxUwOIi3UC42/6pK\n",
       "/Nny6BIAu9+61IOQXjgraDpN7BLW/W/JQP7ZQHXXMm0dQNbwo2MRZqbx2+PMUBr1IF139dX0N7Pn\n",
       "dehe0nJkv6suEMpvQieP/lcwiVgb2fA8RveuWHHnaeiecvkm5bhVGMuzzdsXaVQm4eCQe4QeXWo4\n",
       "64n87HMmDkqDLDhMIaRTvrninCCc29Qd/DyvSBVwXaf08e7fen+e8npXIVnooDQj4AAAAEdBnwRF\n",
       "FSw7/wARClRwrKdoo/akX+codQYUyIlYbyt49Kl1U96hqv3156t85JIH2c2bIiL+R31LvGALyUHH\n",
       "yah/D8lJAqoyoQAAACgBnyN0Q38AGH6xcEaX/ie0+p7cC02mHEwfYPONK+35SWcB0j1C8HTBAAAA\n",
       "LAGfJWpDfwAYgu1CQgCujeN90u721r8DSG4u6OgX3FEXF878GKAAyxlBVDGhAAAAI0GbJ0moQWyZ\n",
       "TAhv//6nhAAlpLG/SWWbFEpUKiVBTZ1EgAIPAAAEv21vb3YAAABsbXZoZAAAAAAAAAAAAAAAAAAA\n",
       "A+gAAA+gAAEAAAEAAAAAAAAAAAAAAAABAAAAAAAAAAAAAAAAAAAAAQAAAAAAAAAAAAAAAAAAQAAA\n",
       "AAAAAAAAAAAAAAAAAAAAAAAAAAAAAAAAAAAAAAIAAAPpdHJhawAAAFx0a2hkAAAAAwAAAAAAAAAA\n",
       "AAAAAQAAAAAAAA+gAAAAAAAAAAAAAAAAAAAAAAABAAAAAAAAAAAAAAAAAAAAAQAAAAAAAAAAAAAA\n",
       "AAAAQAAAAAH0AAABkAAAAAAAJGVkdHMAAAAcZWxzdAAAAAAAAAABAAAPoAAACAAAAQAAAAADYW1k\n",
       "aWEAAAAgbWRoZAAAAAAAAAAAAAAAAAAAKAAAAKAAVcQAAAAAAC1oZGxyAAAAAAAAAAB2aWRlAAAA\n",
       "AAAAAAAAAAAAVmlkZW9IYW5kbGVyAAAAAwxtaW5mAAAAFHZtaGQAAAABAAAAAAAAAAAAAAAkZGlu\n",
       "ZgAAABxkcmVmAAAAAAAAAAEAAAAMdXJsIAAAAAEAAALMc3RibAAAALRzdHNkAAAAAAAAAAEAAACk\n",
       "YXZjMQAAAAAAAAABAAAAAAAAAAAAAAAAAAAAAAH0AZAASAAAAEgAAAAAAAAAAQAAAAAAAAAAAAAA\n",
       "AAAAAAAAAAAAAAAAAAAAAAAAAAAAABj//wAAADJhdmNDAWQAFv/hABlnZAAWrNlAgDPn4QAAAwAB\n",
       "AAADABQPFi2WAQAGaOvjyyLAAAAAHHV1aWRraEDyXyRPxbo5pRvPAyPzAAAAAAAAABhzdHRzAAAA\n",
       "AAAAAAEAAAAoAAAEAAAAABRzdHNzAAAAAAAAAAEAAAABAAABAGN0dHMAAAAAAAAAHgAAAAkAAAgA\n",
       "AAAAAQAAFAAAAAABAAAIAAAAAAEAAAAAAAAAAQAABAAAAAABAAAQAAAAAAIAAAQAAAAAAQAAFAAA\n",
       "AAABAAAIAAAAAAEAAAAAAAAAAQAABAAAAAABAAAQAAAAAAIAAAQAAAAAAQAAFAAAAAABAAAIAAAA\n",
       "AAEAAAAAAAAAAQAABAAAAAABAAAUAAAAAAEAAAgAAAAAAQAAAAAAAAABAAAEAAAAAAEAABQAAAAA\n",
       "AQAACAAAAAABAAAAAAAAAAEAAAQAAAAAAQAAFAAAAAABAAAIAAAAAAEAAAAAAAAAAQAABAAAAAAB\n",
       "AAAIAAAAABxzdHNjAAAAAAAAAAEAAAABAAAAKAAAAAEAAAC0c3RzegAAAAAAAAAAAAAAKAAAFaIA\n",
       "AAHtAAACYgAAAxQAAAIOAAAChAAAAYMAAAFrAAABzQAAA1QAAAIAAAABFgAAAR8AAAM+AAABpwAA\n",
       "AT0AAATWAAAB5QAAASoAAAEmAAADwQAAAVYAAAD1AAAC/AAAAQAAAACXAAAAYAAAAfoAAACrAAAA\n",
       "TgAAAD0AAAF2AAAAYAAAADAAAAAyAAAA9gAAAEsAAAAsAAAAMAAAACcAAAAUc3RjbwAAAAAAAAAB\n",
       "AAAALAAAAGJ1ZHRhAAAAWm1ldGEAAAAAAAAAIWhkbHIAAAAAAAAAAG1kaXJhcHBsAAAAAAAAAAAA\n",
       "AAAALWlsc3QAAAAlqXRvbwAAAB1kYXRhAAAAAQAAAABMYXZmNTcuNzEuMTAw\n",
       "\">\n",
       "  Your browser does not support the video tag.\n",
       "</video>"
      ],
      "text/plain": [
       "<matplotlib.animation.FuncAnimation at 0x7f5972907a10>"
      ]
     },
     "execution_count": 12,
     "metadata": {},
     "output_type": "execute_result"
    }
   ],
   "source": [
    "fig = plt.figure(dpi=100, figsize=(5, 4))\n",
    "plt.scatter(x,y)\n",
    "line, = plt.plot(x,lin(a_guess,b_guess,x))\n",
    "plt.close()\n",
    "\n",
    "def animate(i):\n",
    "    line.set_ydata(lin(a_guess,b_guess,x))\n",
    "    for i in range(10): upd()\n",
    "    return line,\n",
    "\n",
    "ani = animation.FuncAnimation(fig, animate, np.arange(0, 40), interval=100)\n",
    "ani"
   ]
  },
  {
   "cell_type": "code",
   "execution_count": null,
   "metadata": {
    "collapsed": true
   },
   "outputs": [],
   "source": []
  }
 ],
 "metadata": {
  "kernelspec": {
   "display_name": "Python 2",
   "language": "python",
   "name": "python2"
  },
  "language_info": {
   "codemirror_mode": {
    "name": "ipython",
    "version": 2
   },
   "file_extension": ".py",
   "mimetype": "text/x-python",
   "name": "python",
   "nbconvert_exporter": "python",
   "pygments_lexer": "ipython2",
   "version": "2.7.12"
  },
  "nav_menu": {},
  "toc": {
   "navigate_menu": true,
   "number_sections": true,
   "sideBar": true,
   "threshold": 6,
   "toc_cell": true,
   "toc_section_display": "block",
   "toc_window_display": false
  },
  "widgets": {
   "state": {},
   "version": "1.1.2"
  }
 },
 "nbformat": 4,
 "nbformat_minor": 1
}
